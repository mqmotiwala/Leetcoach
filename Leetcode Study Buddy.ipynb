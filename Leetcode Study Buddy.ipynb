{
 "cells": [
  {
   "cell_type": "markdown",
   "id": "9aa36130-1225-4479-922d-4d40ee1bd78d",
   "metadata": {},
   "source": [
    "# Leetcode Study Buddy"
   ]
  },
  {
   "cell_type": "markdown",
   "id": "65df5a1e-c3dd-416b-a068-d9521b98bae1",
   "metadata": {},
   "source": [
    "### User Input\n",
    "- `companies` is used to grab questions tagged with given companies.  \n",
    "Note, this is an AND operation, not an OR operation.\n",
    "- `scrapeNew` will scrape Leetcode for latest questions list if True. Otherwise, it will grab cached questions from project directory.  \n",
    "To use this, be sure that you have provided a session token in a .env file."
   ]
  },
  {
   "cell_type": "code",
   "execution_count": null,
   "id": "60eaedbe-05a3-4348-b33f-3ca5e153f192",
   "metadata": {},
   "outputs": [],
   "source": [
    "companies = []\n",
    "scrapeNew = False"
   ]
  },
  {
   "cell_type": "markdown",
   "id": "c8cfb32b-bbf6-4e07-b399-944a539f4cdb",
   "metadata": {},
   "source": [
    "### Execution\n",
    "##### import dependencies"
   ]
  },
  {
   "cell_type": "code",
   "execution_count": null,
   "id": "89332cd0-b9ee-46d8-9500-a35998ef3d31",
   "metadata": {},
   "outputs": [],
   "source": [
    "import helpers.QuestionsManager as q\n",
    "import helpers.helpers as h"
   ]
  },
  {
   "cell_type": "markdown",
   "id": "8e385faf-f2a4-4c59-ba36-c21f782637cd",
   "metadata": {},
   "source": [
    "##### Instantiate Questions Manager"
   ]
  },
  {
   "cell_type": "code",
   "execution_count": null,
   "id": "ebca4725-546e-4584-93a8-21a4dc0933eb",
   "metadata": {},
   "outputs": [],
   "source": [
    "qm = q.QuestionsManager()\n",
    "qm.addQuestions(h.getQuestions(companies, scrapeNew))\n",
    "qm.setTopicsMatchByInterestedTopics(h.getTopicsOfInterest())\n",
    "qm.loadSolveProgress()\n",
    "\n",
    "print(f\"{qm.numAllQuestions} total questions identified.\")\n",
    "print(f\"{qm.numTopicsMatchQuestions}/{qm.numAllQuestions} questions have topics of interest.\")\n",
    "print(f\"{qm.numQuestionsSolved} solved questions loaded from saved progress.\")"
   ]
  },
  {
   "cell_type": "markdown",
   "id": "e296f2fb",
   "metadata": {},
   "source": [
    "##### Grind out leetcode!"
   ]
  },
  {
   "cell_type": "code",
   "execution_count": null,
   "id": "43b46ea3-e051-4e3c-9b90-803178a33eb0",
   "metadata": {
    "tags": []
   },
   "outputs": [],
   "source": [
    "\"\"\"\n",
    "markQuestionAsSolved\n",
    "args:\n",
    "    questionID (int): Leetcode question ID to be marked as solved\n",
    "\n",
    "markQuestionAsSkipped\n",
    "args:\n",
    "    questionID (int): Leetcode question ID to be marked as skipped\n",
    "    skipReason (str): reason for skipping, by default this is skipReasonNotProvided\n",
    "\"\"\"\n",
    "\n",
    "qm.markQuestionAsSolved()\n",
    "qm.markQuestionAsSkipped()\n",
    "\n",
    "qm.printSolveStats()\n",
    "h.printDivider('Upcoming Questions:')\n",
    "for q in qm.getNextQuestions(10): q.printQuestion()"
   ]
  }
 ],
 "metadata": {
  "kernelspec": {
   "display_name": "Python 3",
   "language": "python",
   "name": "python3"
  },
  "language_info": {
   "codemirror_mode": {
    "name": "ipython",
    "version": 3
   },
   "file_extension": ".py",
   "mimetype": "text/x-python",
   "name": "python",
   "nbconvert_exporter": "python",
   "pygments_lexer": "ipython3",
   "version": "3.11.4"
  }
 },
 "nbformat": 4,
 "nbformat_minor": 5
}
