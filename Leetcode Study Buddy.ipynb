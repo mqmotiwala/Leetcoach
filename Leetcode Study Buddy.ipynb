{
 "cells": [
  {
   "cell_type": "markdown",
   "id": "9aa36130-1225-4479-922d-4d40ee1bd78d",
   "metadata": {},
   "source": [
    "# Leetcode Study Buddy"
   ]
  },
  {
   "cell_type": "markdown",
   "id": "65df5a1e-c3dd-416b-a068-d9521b98bae1",
   "metadata": {},
   "source": [
    "### User Input\n",
    "- `companies` is used to grab questions tagged with given companies.  \n",
    "Note, this is an AND operation, not an OR operation.\n",
    "- `scrapeNew` will scrape Leetcode for latest questions list if True. Otherwise, it will grab cached questions from project directory.  \n",
    "To use this, be sure that you have provided a session token in a .env file."
   ]
  },
  {
   "cell_type": "code",
   "execution_count": 1,
   "id": "60eaedbe-05a3-4348-b33f-3ca5e153f192",
   "metadata": {},
   "outputs": [],
   "source": [
    "companies = []\n",
    "scrapeNew = True"
   ]
  },
  {
   "cell_type": "markdown",
   "id": "c8cfb32b-bbf6-4e07-b399-944a539f4cdb",
   "metadata": {},
   "source": [
    "### Execution\n",
    "##### import dependencies"
   ]
  },
  {
   "cell_type": "code",
   "execution_count": 2,
   "id": "89332cd0-b9ee-46d8-9500-a35998ef3d31",
   "metadata": {},
   "outputs": [],
   "source": [
    "import helpers.QuestionsManager as q\n",
    "import helpers.helpers as h"
   ]
  },
  {
   "cell_type": "markdown",
   "id": "8e385faf-f2a4-4c59-ba36-c21f782637cd",
   "metadata": {},
   "source": [
    "##### Instantiate Questions Manager"
   ]
  },
  {
   "cell_type": "code",
   "execution_count": 3,
   "id": "ebca4725-546e-4584-93a8-21a4dc0933eb",
   "metadata": {},
   "outputs": [
    {
     "name": "stdout",
     "output_type": "stream",
     "text": [
      "3253 total questions identified.\n",
      "1097/3253 questions have topics of interest.\n",
      "96 solved questions loaded from saved progress.\n"
     ]
    }
   ],
   "source": [
    "qm = q.QuestionsManager()\n",
    "qm.addQuestions(h.getQuestions(companies, scrapeNew))\n",
    "qm.setTopicsMatchByInterestedTopics(h.getTopicsOfInterest())\n",
    "qm.loadSolveProgress()\n",
    "    \n",
    "print(f\"{qm.numAllQuestions} total questions identified.\")\n",
    "print(f\"{qm.numTopicsMatchQuestions}/{qm.numAllQuestions} questions have topics of interest.\")\n",
    "print(f\"{qm.numQuestionsSolved} solved questions loaded from saved progress.\")"
   ]
  },
  {
   "cell_type": "markdown",
   "id": "01488afb-80c2-4171-b4f8-7ada4834ff3d",
   "metadata": {},
   "source": [
    "##### Grind out leetcode!"
   ]
  },
  {
   "cell_type": "code",
   "execution_count": 4,
   "id": "43b46ea3-e051-4e3c-9b90-803178a33eb0",
   "metadata": {
    "tags": []
   },
   "outputs": [
    {
     "name": "stdout",
     "output_type": "stream",
     "text": [
      "78/492 (15.85%) easy questions solved.\n",
      "17/488 (3.48%) medium questions solved.\n",
      "1/117 (0.85%) hard questions solved.\n",
      "96/1097 (8.75%) total questions solved.\n",
      "\n",
      "Upcoming Questions:\n",
      "-------------------\n",
      "\n",
      "696. \t (Easy) (73.05%) \t Count Binary Substrings https://leetcode.com/problems/count-binary-substrings/description\n",
      "69. \t (Easy) (72.22%) \t Sqrt(x) https://leetcode.com/problems/sqrtx/description\n",
      "2540. \t (Easy) (67.85%) \t Minimum Common Value https://leetcode.com/problems/minimum-common-value/description\n",
      "219. \t (Easy) (67.14%) \t Contains Duplicate II https://leetcode.com/problems/contains-duplicate-ii/description\n",
      "35. \t (Easy) (61.93%) \t Search Insert Position https://leetcode.com/problems/search-insert-position/description\n",
     ]
    }
   ],
   "source": [
    "qm.markQuestionAsSolved(1)\n",
    "qm.markQuestionAsSkipped(2648, 'skippedBecauseLanguage')\n",
    "\n",
    "qm.printSolveStats()\n",
    "h.printDivider('Upcoming Questions:')\n",
    "for q in qm.getNextQuestions(5): q.printQuestion()"
   ]
  }
 ],
 "metadata": {
  "kernelspec": {
   "display_name": "Caspian (Default)",
   "language": "python",
   "name": "caspian_python"
  },
  "language_info": {
   "codemirror_mode": {
    "name": "ipython",
    "version": 3
   },
   "file_extension": ".py",
   "mimetype": "text/x-python",
   "name": "python",
   "nbconvert_exporter": "python",
   "pygments_lexer": "ipython3",
   "version": "3.7.9"
  }
 },
 "nbformat": 4,
 "nbformat_minor": 5
}
